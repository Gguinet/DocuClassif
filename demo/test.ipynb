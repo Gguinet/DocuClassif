{
 "cells": [
  {
   "cell_type": "code",
   "execution_count": 58,
   "id": "cdf3fa80",
   "metadata": {},
   "outputs": [
    {
     "name": "stdout",
     "output_type": "stream",
     "text": [
      "{\"labels\":[\"maths\",\"job\"]}"
     ]
    }
   ],
   "source": [
    "# Option 1: Access Endpoint from commandline\n",
    "\n",
    "! curl -X 'POST' \\\n",
    "    'http://127.0.0.1:8000/classification' \\\n",
    "    -H 'accept: application/json' \\\n",
    "    -H 'Content-Type: application/json' \\\n",
    "    -d '{\"text\":\"Martin is a nice guy. He enjoys doing linear optimization.\", \\\n",
    "         \"labels\":[\"maths\",\"sport\",\"job\"], \\\n",
    "         \"model\": \"zero-shot\"}'"
   ]
  },
  {
   "cell_type": "code",
   "execution_count": 50,
   "id": "d8f02a6f",
   "metadata": {},
   "outputs": [
    {
     "name": "stdout",
     "output_type": "stream",
     "text": [
      "{\"labels\":[\"job\"]}"
     ]
    }
   ],
   "source": [
    "# Option 1: Access Endpoint from commandline\n",
    "\n",
    "! curl -X 'POST' \\\n",
    "    'http://127.0.0.1:8000/classification' \\\n",
    "    -H 'accept: application/json' \\\n",
    "    -H 'Content-Type: application/json' \\\n",
    "    -d '{\"text\":\"John Doe is a Go Developer at Google. He has been working there for 10 years and has been awarded employee of the year.\", \\\n",
    "         \"labels\":[\"job\", \"nature\", \"space\"], \\\n",
    "         \"model\": \"zero-shot\"}'"
   ]
  },
  {
   "cell_type": "code",
   "execution_count": 49,
   "id": "2be91ca1",
   "metadata": {},
   "outputs": [
    {
     "name": "stdout",
     "output_type": "stream",
     "text": [
      "{\"labels\":[\"scientific_report\",\"file_folder\",\"specification\",\"letter\",\"form\",\"presentation\"]}"
     ]
    }
   ],
   "source": [
    "# Option 1: Access Endpoint from commandline\n",
    "\n",
    "! curl -X 'POST' \\\n",
    "    'http://127.0.0.1:8000/classification' \\\n",
    "    -H 'accept: application/json' \\\n",
    "    -H 'Content-Type: application/json' \\\n",
    "    -d '{\"text\":\"John Doe is a Go Developer at Google. He has been working there for 10 years and has been awarded employee of the year.\", \\\n",
    "         \"model\": \"zero-shot\"}'"
   ]
  },
  {
   "cell_type": "code",
   "execution_count": 47,
   "id": "5ae9da45",
   "metadata": {},
   "outputs": [
    {
     "name": "stdout",
     "output_type": "stream",
     "text": [
      "{'labels': ['job', 'space', 'nature'], 'scores': [0.9511086344718933, 0.028026724234223366, 0.02086460217833519]}\n"
     ]
    }
   ],
   "source": [
    "# Option 2: Access Endpoint from Python Env\n",
    "\n",
    "import requests as r\n",
    "import json\n",
    "from requests.structures import CaseInsensitiveDict\n",
    "\n",
    "headers = CaseInsensitiveDict()\n",
    "headers[\"Accept\"] = \"application/json\"\n",
    "headers[\"Content-Type\"] = \"application/json\"\n",
    "\n",
    "url = \"http://127.0.0.1:8000/classification\"\n",
    "\n",
    "\n",
    "text = \"John Doe is a Go Developer at Google. He has been working there for 10 years and has been awarded employee of the year.\"\n",
    "labels = [\"job\", \"nature\", \"space\"]\n",
    "\n",
    "# text = open('demo2.txt','r').read()\n",
    "# labels = [\"job\", \"fiction\", \"space\",\"research\"]\n",
    "\n",
    "\n",
    "response = r.post(url,\n",
    "                  headers = headers,\n",
    "                  data = json.dumps({\"text\":text,\"labels\":labels}))\n",
    "\n",
    "print(response.json())"
   ]
  },
  {
   "cell_type": "code",
   "execution_count": null,
   "id": "28ad81e9",
   "metadata": {},
   "outputs": [],
   "source": [
    "CORPUS_DIR = os.path.join(DATASET_DIR, 'multi-eurlex', 'corpus')\n",
    "LANGS = ['en', 'bg', 'cs', 'da', 'de', 'el', 'es', 'et', 'fi', 'fr', 'hr', 'hu',\n",
    "         'it', 'lt', 'lv', 'mt', 'nl', 'pl', 'pt', 'ro', 'sk', 'sl', 'sv']\n",
    "\n",
    "filenames = []\n",
    "for SUBSET in ['train', 'dev', 'test']:\n",
    "    with open(os.path.join(DATASET_DIR, 'multi-eurlex', f'multi_eurlex_{SUBSET}_ids.json')) as file:\n",
    "        filenames += [os.path.join(CORPUS_DIR, f'{idx}.json') for idx in json.load(file)]\n",
    "\n",
    "\n",
    "with open(os.path.join(DATASET_DIR, 'multi-eurlex', 'eurovoc_concepts.json')) as file:\n",
    "    eurovoc_concepts = json.load(file)\n",
    "    eurovoc_concepts.pop('level_4', None)\n",
    "    eurovoc_concepts.pop('level_5', None)\n",
    "    eurovoc_concepts.pop('level_6', None)\n",
    "    eurovoc_concepts.pop('level_7', None)\n",
    "    eurovoc_concepts.pop('level_8', None)\n",
    "\n",
    "avg_concepts = {key: [] for key in eurovoc_concepts.keys()}\n",
    "unique_concepts = {key: set() for key in eurovoc_concepts.keys()}\n",
    "count_concepts = {key: [] for key in eurovoc_concepts.keys()}\n",
    "for filename in tqdm.tqdm(filenames):\n",
    "    with open(filename) as file:\n",
    "        data = json.load(file)\n",
    "    for key in avg_concepts.keys():\n",
    "        avg_concepts[key].append(len(data['concepts'][key]))\n",
    "        unique_concepts[key].update(data['concepts'][key])\n",
    "        count_concepts[key].extend(data['concepts'][key])\n",
    "\n",
    "for key, value in avg_concepts.items():\n",
    "    print(f'{key:<10}\\t{len(eurovoc_concepts[key]):<4}\\t\\t{len(unique_concepts[key]):<4}\\t{np.mean(value):.1f}')\n",
    "\n",
    "for key, values in count_concepts.items():\n",
    "    counts = Counter(values)\n",
    "    freq = sum([1 for key_1, value in counts.items() if value >= 10])\n",
    "    infreq = len(eurovoc_concepts[key]) - freq\n",
    "    print(f'{key:<10}\\t{freq}\\t{infreq}')"
   ]
  },
  {
   "cell_type": "code",
   "execution_count": 114,
   "id": "63677f58",
   "metadata": {},
   "outputs": [
    {
     "data": {
      "text/plain": [
       "['social questions',\n",
       " 'industry',\n",
       " 'finance',\n",
       " 'trade',\n",
       " 'business and competition',\n",
       " 'international relations',\n",
       " 'agriculture, forestry and fisheries',\n",
       " 'production, technology and research',\n",
       " 'transport',\n",
       " 'employment and working conditions',\n",
       " 'politics',\n",
       " 'law',\n",
       " 'education and communications',\n",
       " 'international organisations',\n",
       " 'energy',\n",
       " 'EUROPEAN UNION',\n",
       " 'science',\n",
       " 'agri-foodstuffs',\n",
       " 'geography',\n",
       " 'economics',\n",
       " 'environment']"
      ]
     },
     "execution_count": 114,
     "metadata": {},
     "output_type": "execute_result"
    }
   ],
   "source": [
    "[eurovoc_concepts[n]['en'] for n in classlabel.names]"
   ]
  },
  {
   "cell_type": "code",
   "execution_count": 12,
   "id": "b6dc89a7",
   "metadata": {},
   "outputs": [
    {
     "data": {
      "image/png": "[encoded data removed]",
      "text/plain": [
       "<Figure size 432x288 with 1 Axes>"
      ]
     },
     "metadata": {
      "needs_background": "light"
     },
     "output_type": "display_data"
    }
   ],
   "source": [
    "import matplotlib.pyplot as plt\n",
    "\n",
    "train_sent_len = [len(i.split()) for i in dataset_train['text']]\n",
    "\n",
    "plt.hist(train_sent_len, bins=range(min(train_sent_len), 2500 + 1, 1), \n",
    "              alpha=0.4, color=\"red\")\n",
    "\n",
    "\n",
    "labels = ['Train']\n",
    "plt.legend(labels)\n",
    "plt.xlabel(\"length of sentence\")\n",
    "plt.ylabel(\"proportion\")\n",
    "plt.title(\"Number of words per sentence distribution in Train\")\n",
    "plt.show()"
   ]
  },
  {
   "cell_type": "code",
   "execution_count": 61,
   "id": "63efd415",
   "metadata": {},
   "outputs": [],
   "source": [
    "from sklearn import metrics\n",
    "\n",
    "metrics.f1_score??"
   ]
  },
  {
   "cell_type": "code",
   "execution_count": null,
   "id": "e6dc36b8",
   "metadata": {},
   "outputs": [],
   "source": [
    "for param_name in sorted(parameters.keys()):\n",
    "    logging.info(\"%s: %r\" % (param_name, gs_clf.best_params_[param_name]))"
   ]
  },
  {
   "cell_type": "code",
   "execution_count": null,
   "id": "03f5fb51",
   "metadata": {},
   "outputs": [],
   "source": [
    "    def get_labels(data, mlb):\n",
    "        return mlb.transform(data['labels']).tolist()\n",
    "\n",
    "    def add_zero_class(labels):\n",
    "        augmented_labels = np.zeros((len(labels), len(labels[0]) + 1), dtype=np.int32)\n",
    "        augmented_labels[:, :-1] = labels\n",
    "        augmented_labels[:, -1] = (np.sum(labels, axis=1) == 0).astype('int32')\n",
    "        return augmented_labels"
   ]
  },
  {
   "cell_type": "code",
   "execution_count": 64,
   "id": "996659ba",
   "metadata": {},
   "outputs": [],
   "source": [
    "EURALEX_LABELS_LIST = [\n",
    "    'social questions',\n",
    "    'industry',\n",
    "    'finance',\n",
    "    'trade',\n",
    "    'business and competition',\n",
    "    'international relations',\n",
    "    'agriculture',\n",
    "    'forestry and fisheries',\n",
    "    'production',\n",
    "    'technology and research',\n",
    "    'transport',\n",
    "    'employment and working conditions',\n",
    "    'politics',\n",
    "    'law',\n",
    "    'education and communications',\n",
    "    'international organisations',\n",
    "    'energy',\n",
    "    'European Union',\n",
    "    'science',\n",
    "    'agri-foodstuffs',\n",
    "    'geography',\n",
    "    'economics',\n",
    "    'environment']"
   ]
  },
  {
   "cell_type": "code",
   "execution_count": 107,
   "id": "202a0015",
   "metadata": {},
   "outputs": [
    {
     "name": "stdout",
     "output_type": "stream",
     "text": [
      "[[0 0 0 0]]\n",
      "[[0 0 0 0]]\n",
      "[[0 0 0 0]]\n",
      "Micro-F1 - SVM: 100.0\n",
      "Macro-F1 - SVM: 25.0\n",
      "Micro-F1 - Zero-Shot: 0.0\n",
      "Macro-F1 - Zero-Shot: 0.0\n"
     ]
    },
    {
     "name": "stderr",
     "output_type": "stream",
     "text": [
      "/Users/gauthierguinet/opt/anaconda3/lib/python3.9/site-packages/sklearn/metrics/_classification.py:1495: UndefinedMetricWarning: F-score is ill-defined and being set to 0.0 in labels with no true nor predicted samples. Use `zero_division` parameter to control this behavior.\n",
      "  _warn_prf(\n",
      "/Users/gauthierguinet/opt/anaconda3/lib/python3.9/site-packages/sklearn/metrics/_classification.py:1495: UndefinedMetricWarning: F-score is ill-defined and being set to 0.0 in labels with no true nor predicted samples. Use `zero_division` parameter to control this behavior.\n",
      "  _warn_prf(\n"
     ]
    }
   ],
   "source": [
    "# Global Evaluation Variables\n",
    "\n",
    "def get_labels(pred, mlb):\n",
    "        return mlb.transform([pred])[0]\n",
    "    \n",
    "def add_zero_class(labels):\n",
    "        augmented_labels = np.zeros((len(labels), len(labels[0]) + 1), dtype=np.int32)\n",
    "        augmented_labels[:, :-1] = labels\n",
    "        augmented_labels[:, -1] = (np.sum(labels, axis=1) == 0).astype('int32')\n",
    "        return augmented_labels\n",
    "\n",
    "EURALEX_LABELS_LIST = ['a','b','c']\n",
    "\n",
    "mlb = MultiLabelBinarizer(classes=EURALEX_LABELS_LIST)\n",
    "mlb = mlb.fit(y=[EURALEX_LABELS_LIST])\n",
    "y_pred_svm,y_pred_zero,y_true = [],[],[]\n",
    "\n",
    "\n",
    "\n",
    "y_pred_svm.append(get_labels(['a'], mlb))\n",
    "y_pred_zero.append(get_labels(['b'], mlb))\n",
    "y_true.append(get_labels(['a'], mlb))\n",
    "\n",
    "# Global Evaluation    \n",
    "y_true = add_zero_class(np.array(y_pred_svm))\n",
    "y_pred_svm = add_zero_class(np.array(y_pred_svm))\n",
    "y_pred_zero = add_zero_class(np.array(y_pred_zero))\n",
    "print(f'Micro-F1 - SVM: {metrics.f1_score(y_true, y_pred_svm, average=\"micro\")*100:.1f}')\n",
    "print(f'Macro-F1 - SVM: {metrics.f1_score(y_true, y_pred_svm, average=\"macro\")*100:.1f}')\n",
    "print(f'Micro-F1 - Zero-Shot: {metrics.f1_score(y_true, y_pred_zero, average=\"micro\")*100:.1f}')\n",
    "print(f'Macro-F1 - Zero-Shot: {metrics.f1_score(y_true, y_pred_zero, average=\"macro\")*100:.1f}')"
   ]
  },
  {
   "cell_type": "code",
   "execution_count": 105,
   "id": "007d66ca",
   "metadata": {},
   "outputs": [
    {
     "data": {
      "text/plain": [
       "[array([[1, 0, 0]])]"
      ]
     },
     "execution_count": 105,
     "metadata": {},
     "output_type": "execute_result"
    }
   ],
   "source": [
    "y_pred_svm"
   ]
  },
  {
   "cell_type": "code",
   "execution_count": 104,
   "id": "a34dffcf",
   "metadata": {},
   "outputs": [
    {
     "data": {
      "text/plain": [
       "(1, 1, 3)"
      ]
     },
     "execution_count": 104,
     "metadata": {},
     "output_type": "execute_result"
    }
   ],
   "source": [
    "np.array(y_pred_svm).shape"
   ]
  },
  {
   "cell_type": "code",
   "execution_count": 101,
   "id": "90b6a9f0",
   "metadata": {},
   "outputs": [
    {
     "data": {
      "text/plain": [
       "1"
      ]
     },
     "execution_count": 101,
     "metadata": {},
     "output_type": "execute_result"
    }
   ],
   "source": [
    "len(np.array(y_pred_svm)[0])"
   ]
  },
  {
   "cell_type": "code",
   "execution_count": 99,
   "id": "9c1184ab",
   "metadata": {},
   "outputs": [
    {
     "data": {
      "text/plain": [
       "array([[0, 0]], dtype=int32)"
      ]
     },
     "execution_count": 99,
     "metadata": {},
     "output_type": "execute_result"
    }
   ],
   "source": [
    "np.zeros((len(np.array(y_pred_svm)), len(np.array(y_pred_svm)[0]) + 1), dtype=np.int32)"
   ]
  },
  {
   "cell_type": "code",
   "execution_count": 96,
   "id": "8ca95365",
   "metadata": {},
   "outputs": [
    {
     "data": {
      "text/plain": [
       "array([[[1, 0, 0]]])"
      ]
     },
     "execution_count": 96,
     "metadata": {},
     "output_type": "execute_result"
    }
   ],
   "source": [
    "np.array(y_pred_svm)"
   ]
  },
  {
   "cell_type": "code",
   "execution_count": null,
   "id": "cda3486b",
   "metadata": {},
   "outputs": [],
   "source": [
    "len()"
   ]
  }
 ],
 "metadata": {
  "kernelspec": {
   "display_name": "Python 3 (ipykernel)",
   "language": "python",
   "name": "python3"
  },
  "language_info": {
   "codemirror_mode": {
    "name": "ipython",
    "version": 3
   },
   "file_extension": ".py",
   "mimetype": "text/x-python",
   "name": "python",
   "nbconvert_exporter": "python",
   "pygments_lexer": "ipython3",
   "version": "3.9.7"
  }
 },
 "nbformat": 4,
 "nbformat_minor": 5
}
