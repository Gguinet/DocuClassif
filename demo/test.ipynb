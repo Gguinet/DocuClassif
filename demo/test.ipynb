{
 "cells": [
  {
   "cell_type": "code",
   "execution_count": 34,
   "id": "7e78045a",
   "metadata": {},
   "outputs": [
    {
     "name": "stdout",
     "output_type": "stream",
     "text": [
      "{\"labels\":[\"Business\",\"Machine Learning\"]}"
     ]
    }
   ],
   "source": [
    "# Option 1: Access Endpoint from commandline\n",
    "\n",
    "! curl -X 'POST' \\\n",
    "    'http://127.0.0.1:8000/classification' \\\n",
    "    -H 'accept: application/json' \\\n",
    "    -H 'Content-Type: application/json' \\\n",
    "    -d '{\"text\":\"Make decisions 10X more confidently and quickly with AI-powered insights.\", \\\n",
    "         \"labels\":[\"Business\",\"Machine Learning\",\"Sport\"], \\\n",
    "         \"model\": \"zero-shot\"}'"
   ]
  },
  {
   "cell_type": "code",
   "execution_count": 50,
   "id": "d8f02a6f",
   "metadata": {},
   "outputs": [
    {
     "name": "stdout",
     "output_type": "stream",
     "text": [
      "{\"labels\":[\"job\"]}"
     ]
    }
   ],
   "source": [
    "# Option 1: Access Endpoint from commandline\n",
    "\n",
    "! curl -X 'POST' \\\n",
    "    'http://127.0.0.1:8000/classification' \\\n",
    "    -H 'accept: application/json' \\\n",
    "    -H 'Content-Type: application/json' \\\n",
    "    -d '{\"text\":\"John Doe is a Go Developer at Google. He has been working there for 10 years and has been awarded employee of the year.\", \\\n",
    "         \"labels\":[\"job\", \"nature\", \"space\"], \\\n",
    "         \"model\": \"zero-shot\"}'"
   ]
  },
  {
   "cell_type": "code",
   "execution_count": 49,
   "id": "b8988080",
   "metadata": {},
   "outputs": [
    {
     "name": "stdout",
     "output_type": "stream",
     "text": [
      "{\"labels\":[\"scientific_report\",\"file_folder\",\"specification\",\"letter\",\"form\",\"presentation\"]}"
     ]
    }
   ],
   "source": [
    "# Option 1: Access Endpoint from commandline\n",
    "\n",
    "! curl -X 'POST' \\\n",
    "    'http://127.0.0.1:8000/classification' \\\n",
    "    -H 'accept: application/json' \\\n",
    "    -H 'Content-Type: application/json' \\\n",
    "    -d '{\"text\":\"John Doe is a Go Developer at Google. He has been working there for 10 years and has been awarded employee of the year.\", \\\n",
    "         \"model\": \"zero-shot\"}'"
   ]
  },
  {
   "cell_type": "code",
   "execution_count": 47,
   "id": "5ae9da45",
   "metadata": {},
   "outputs": [
    {
     "name": "stdout",
     "output_type": "stream",
     "text": [
      "{'labels': ['job', 'space', 'nature'], 'scores': [0.9511086344718933, 0.028026724234223366, 0.02086460217833519]}\n"
     ]
    }
   ],
   "source": [
    "# Option 2: Access Endpoint from Python Env\n",
    "\n",
    "import requests as r\n",
    "import json\n",
    "from requests.structures import CaseInsensitiveDict\n",
    "\n",
    "headers = CaseInsensitiveDict()\n",
    "headers[\"Accept\"] = \"application/json\"\n",
    "headers[\"Content-Type\"] = \"application/json\"\n",
    "\n",
    "url = \"http://127.0.0.1:8000/classification\"\n",
    "\n",
    "\n",
    "text = \"John Doe is a Go Developer at Google. He has been working there for 10 years and has been awarded employee of the year.\"\n",
    "labels = [\"job\", \"nature\", \"space\"]\n",
    "\n",
    "# text = open('demo2.txt','r').read()\n",
    "# labels = [\"job\", \"fiction\", \"space\",\"research\"]\n",
    "\n",
    "\n",
    "response = r.post(url,\n",
    "                  headers = headers,\n",
    "                  data = json.dumps({\"text\":text,\"labels\":labels}))\n",
    "\n",
    "print(response.json())"
   ]
  },
  {
   "cell_type": "code",
   "execution_count": 12,
   "id": "b6dc89a7",
   "metadata": {},
   "outputs": [
    {
     "data": {
      "image/png": "[encoded data removed]",
      "text/plain": [
       "<Figure size 432x288 with 1 Axes>"
      ]
     },
     "metadata": {
      "needs_background": "light"
     },
     "output_type": "display_data"
    }
   ],
   "source": [
    "import matplotlib.pyplot as plt\n",
    "\n",
    "train_sent_len = [len(i.split()) for i in dataset_train['text']]\n",
    "\n",
    "plt.hist(train_sent_len, bins=range(min(train_sent_len), 2500 + 1, 1), \n",
    "              alpha=0.4, color=\"red\")\n",
    "\n",
    "\n",
    "labels = ['Train']\n",
    "plt.legend(labels)\n",
    "plt.xlabel(\"length of sentence\")\n",
    "plt.ylabel(\"proportion\")\n",
    "plt.title(\"Number of words per sentence distribution in Train\")\n",
    "plt.show()"
   ]
  },
  {
   "cell_type": "code",
   "execution_count": 36,
   "id": "e14d206b",
   "metadata": {},
   "outputs": [
    {
     "name": "stdout",
     "output_type": "stream",
     "text": [
      "Running on local URL:  http://127.0.0.1:7888/\n",
      "Running on public URL: https://31709.gradio.app\n",
      "\n",
      "This share link expires in 72 hours. For free permanent hosting, check out Spaces (https://huggingface.co/spaces)\n"
     ]
    },
    {
     "data": {
      "text/html": [
       "<div><iframe src=\"https://31709.gradio.app\" width=\"900\" height=\"500\" allow=\"autoplay; camera; microphone;\" frameborder=\"0\" allowfullscreen></iframe></div>"
      ],
      "text/plain": [
       "<IPython.core.display.HTML object>"
      ]
     },
     "metadata": {},
     "output_type": "display_data"
    },
    {
     "data": {
      "text/plain": [
       "(<gradio.routes.App at 0x7fa04a031520>,\n",
       " 'http://127.0.0.1:7888/',\n",
       " 'https://31709.gradio.app')"
      ]
     },
     "execution_count": 36,
     "metadata": {},
     "output_type": "execute_result"
    }
   ],
   "source": [
    "import gradio as gr\n",
    "import requests as r\n",
    "import json\n",
    "from requests.structures import CaseInsensitiveDict\n",
    "\n",
    "def call_api_doc(Doc,labels,Model):\n",
    "\n",
    "    headers = CaseInsensitiveDict()\n",
    "    headers[\"Accept\"] = \"application/json\"\n",
    "    headers[\"Content-Type\"] = \"application/json\"\n",
    "    url = \"http://127.0.0.1:8000/classification\"\n",
    "    \n",
    "    lab = labels.split(';')\n",
    "    \n",
    "    if lab != ['']:\n",
    "\n",
    "        response = r.post(url,\n",
    "                          headers = headers,\n",
    "                          data = json.dumps({\"text\":Doc,\"model\":Model,\"labels\":lab}))\n",
    "    else:\n",
    "        response = r.post(url,\n",
    "                          headers = headers,\n",
    "                          data = json.dumps({\"text\":Doc,\"model\":Model}))\n",
    "        \n",
    "    if response.json()['labels'] == []:\n",
    "        \n",
    "        return 'No label is predicted by our model.'\n",
    "    \n",
    "    return response.json()['labels']\n",
    "\n",
    "\n",
    "text = \"John Doe is a Go Developer at Google. He has been working there for 10 years and has been awarded employee of the year.\"\n",
    "labels = [\"job\", \"nature\", \"space\"]\n",
    "\n",
    "\n",
    "description = \"A document classification interface powered by ML.\"\n",
    "title = \"Document Classification\"\n",
    "\n",
    "examples = [[\"Make decisions 10X more confidently and quickly with AI-powered insights.\",\n",
    "             \"Business;Machine Learning;Sport\",\n",
    "             'zero-shot'],\n",
    "            [\"John Doe is a Go Developer at Google. He has been working there for 10 years and has been awarded employee of the year.\",\n",
    "             \"job;nature;space\",\n",
    "             'zero-shot']]\n",
    "\n",
    "demo = gr.Interface(fn=call_api_doc,\n",
    "                    inputs=[gr.Textbox(lines=2, placeholder=\"Write your text here...\"),\n",
    "                            gr.Textbox(lines=1, placeholder=\"Labels go here (Optional, separate by ;)\"),\n",
    "                            gr.Radio([\"zero-shot\",\"svm\"])],\n",
    "                    examples=examples,\n",
    "                    description=description,\n",
    "                    title=title,\n",
    "                    outputs=\"text\")\n",
    "\n",
    "demo.launch(share=True)"
   ]
  },
  {
   "cell_type": "code",
   "execution_count": 39,
   "id": "8deed6f0",
   "metadata": {},
   "outputs": [],
   "source": [
    "from collections import Counter"
   ]
  },
  {
   "cell_type": "code",
   "execution_count": 41,
   "id": "b428ae83",
   "metadata": {},
   "outputs": [
    {
     "data": {
      "text/plain": [
       "Counter({'a': 2, 'b': 1, 'c': 1})"
      ]
     },
     "execution_count": 41,
     "metadata": {},
     "output_type": "execute_result"
    }
   ],
   "source": [
    "Counter('abca')"
   ]
  },
  {
   "cell_type": "code",
   "execution_count": 53,
   "id": "6bca8bb2",
   "metadata": {},
   "outputs": [],
   "source": [
    "\n",
    "    \n",
    "def test_equ(Counter1,Counter2):\n",
    "\n",
    "    for key in Counter1.keys():\n",
    "\n",
    "        if key not in Counter2.keys(): return False\n",
    "        if Counter2[key]<Counter1[key]: return False\n",
    "    return True\n",
    "\n",
    "\n",
    "\n",
    "def minWindow(s, t):\n",
    "\n",
    "    n,m = len(s),len(t)\n",
    "    Counter1 = Counter(t)\n",
    "    start = 0\n",
    "    for window in range(1,n):\n",
    "\n",
    "\n",
    "    while(start+window<=n):\n",
    "\n",
    "        print(s[start:start+window])\n",
    "        if test(Counter1,Counter(s[start:start+window])):\n",
    "            return s[start:start+window]\n",
    "        start+=1\n",
    "    return \"\""
   ]
  },
  {
   "cell_type": "code",
   "execution_count": 54,
   "id": "8343ac0f",
   "metadata": {},
   "outputs": [
    {
     "name": "stdout",
     "output_type": "stream",
     "text": [
      "A\n",
      "D\n",
      "O\n",
      "B\n",
      "E\n",
      "C\n",
      "O\n",
      "D\n",
      "E\n",
      "B\n",
      "A\n",
      "N\n",
      "C\n"
     ]
    },
    {
     "data": {
      "text/plain": [
       "''"
      ]
     },
     "execution_count": 54,
     "metadata": {},
     "output_type": "execute_result"
    }
   ],
   "source": [
    "minWindow('ADOBECODEBANC', 'ABC')"
   ]
  },
  {
   "cell_type": "code",
   "execution_count": 55,
   "id": "eded773f",
   "metadata": {},
   "outputs": [
    {
     "data": {
      "text/plain": [
       "'a'"
      ]
     },
     "execution_count": 55,
     "metadata": {},
     "output_type": "execute_result"
    }
   ],
   "source": [
    "'a'[0:1]"
   ]
  },
  {
   "cell_type": "code",
   "execution_count": null,
   "id": "2d1f9737",
   "metadata": {},
   "outputs": [],
   "source": []
  }
 ],
 "metadata": {
  "kernelspec": {
   "display_name": "Python 3 (ipykernel)",
   "language": "python",
   "name": "python3"
  },
  "language_info": {
   "codemirror_mode": {
    "name": "ipython",
    "version": 3
   },
   "file_extension": ".py",
   "mimetype": "text/x-python",
   "name": "python",
   "nbconvert_exporter": "python",
   "pygments_lexer": "ipython3",
   "version": "3.9.7"
  }
 },
 "nbformat": 4,
 "nbformat_minor": 5
}
